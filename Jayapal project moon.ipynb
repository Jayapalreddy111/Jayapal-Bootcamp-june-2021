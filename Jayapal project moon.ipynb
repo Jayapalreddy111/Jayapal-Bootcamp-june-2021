{
 "cells": [
  {
   "cell_type": "code",
   "execution_count": 45,
   "metadata": {},
   "outputs": [],
   "source": [
    "import pandas as pd\n",
    "import numpy as np\n",
    "import matplotlib.pyplot as plt\n",
    "from sklearn import datasets\n",
    "from sklearn import metrics\n",
    "from sklearn.cluster import KMeans"
   ]
  },
  {
   "cell_type": "code",
   "execution_count": 88,
   "metadata": {},
   "outputs": [],
   "source": [
    "data_ = datasets.make_moons(105)\n"
   ]
  },
  {
   "cell_type": "code",
   "execution_count": 89,
   "metadata": {
    "scrolled": true
   },
   "outputs": [
    {
     "data": {
      "text/plain": [
       "(array([[ 8.50217136e-01,  5.26432163e-01],\n",
       "        [ 2.90581826e-02,  2.60684336e-01],\n",
       "        [-7.79080575e-01,  6.26923806e-01],\n",
       "        [-7.39008917e-01,  6.73695644e-01],\n",
       "        [-9.69796936e-01,  2.43913720e-01],\n",
       "        [ 1.77016134e-01, -6.80647467e-02],\n",
       "        [ 2.13933083e-01,  9.76848318e-01],\n",
       "        [ 1.82298387e+00, -6.80647467e-02],\n",
       "        [ 5.35276828e-01, -3.85456026e-01],\n",
       "        [ 1.14543974e-01,  3.52768280e-02],\n",
       "        [ 9.82973100e-01,  1.83749518e-01],\n",
       "        [ 5.52364973e-01,  8.33602385e-01],\n",
       "        [ 1.53391655e-01,  9.88165472e-01],\n",
       "        [ 2.51489252e-01, -1.63122658e-01],\n",
       "        [-3.32354799e-01,  9.43154434e-01],\n",
       "        [-6.50618300e-01,  7.59404917e-01],\n",
       "        [ 4.31935253e-01, -3.22983866e-01],\n",
       "        [ 4.52791335e-02,  2.02496946e-01],\n",
       "        [ 1.12053668e+00, -4.92708874e-01],\n",
       "        [-4.45738356e-01,  8.95163291e-01],\n",
       "        [ 9.39621503e-01, -4.98175554e-01],\n",
       "        [-1.00000000e+00,  1.22464680e-16],\n",
       "        [ 1.78718348e+00, -1.16718873e-01],\n",
       "        [ 1.06037850e+00, -4.98175554e-01],\n",
       "        [ 4.45738356e-01,  8.95163291e-01],\n",
       "        [ 8.19744962e-01, -4.83619907e-01],\n",
       "        [ 9.32472229e-01,  3.61241666e-01],\n",
       "        [-9.08465272e-01,  4.17960345e-01],\n",
       "        [ 1.00000000e+00, -5.00000000e-01],\n",
       "        [ 1.46472317e+00, -3.85456026e-01],\n",
       "        [ 6.96133946e-01,  7.17911923e-01],\n",
       "        [ 1.18025504e+00, -4.83619907e-01],\n",
       "        [ 1.85578127e+00, -1.73378142e-02],\n",
       "        [ 3.89785873e-01,  9.20905518e-01],\n",
       "        [ 1.99817555e+00,  4.39621503e-01],\n",
       "        [ 1.23931566e+00, -4.70941817e-01],\n",
       "        [-5.52364973e-01,  8.33602385e-01],\n",
       "        [ 1.41041281e+00, -4.11899846e-01],\n",
       "        [ 1.51733781e+00, -3.55781272e-01],\n",
       "        [ 1.74851075e+00, -1.63122658e-01],\n",
       "        [ 1.70710678e+00, -2.07106781e-01],\n",
       "        [-6.96133946e-01,  7.17911923e-01],\n",
       "        [ 2.12816519e-01, -1.16718873e-01],\n",
       "        [ 8.81012194e-01,  4.73093557e-01],\n",
       "        [ 5.00000000e-01,  8.66025404e-01],\n",
       "        [ 1.61671887e+00, -2.87183481e-01],\n",
       "        [-8.16196912e-01,  5.77773831e-01],\n",
       "        [-2.73662990e-01,  9.61825643e-01],\n",
       "        [-2.13933083e-01,  9.76848318e-01],\n",
       "        [ 1.82444578e-03,  4.39621503e-01],\n",
       "        [-9.32472229e-01,  3.61241666e-01],\n",
       "        [ 1.91189985e+00,  8.95871945e-02],\n",
       "        [ 7.39008917e-01,  6.73695644e-01],\n",
       "        [-9.92420510e-01,  1.22888291e-01],\n",
       "        [-9.82973100e-01,  1.83749518e-01],\n",
       "        [ 6.02634636e-01,  7.98017227e-01],\n",
       "        [ 1.63800931e-02,  3.19744962e-01],\n",
       "        [ 2.00000000e+00,  5.00000000e-01],\n",
       "        [ 8.81001540e-02,  8.95871945e-02],\n",
       "        [ 1.56806475e+00, -3.22983866e-01],\n",
       "        [ 2.92893219e-01, -2.07106781e-01],\n",
       "        [ 4.82662186e-01, -3.55781272e-01],\n",
       "        [ 1.99270887e+00,  3.79463320e-01],\n",
       "        [ 9.98103329e-01,  6.15609061e-02],\n",
       "        [ 9.69796936e-01,  2.43913720e-01],\n",
       "        [-8.50217136e-01,  5.26432163e-01],\n",
       "        [ 1.95472087e+00,  2.02496946e-01],\n",
       "        [-9.98103329e-01,  6.15609061e-02],\n",
       "        [ 9.22683595e-02,  9.95734176e-01],\n",
       "        [ 7.79080575e-01,  6.26923806e-01],\n",
       "        [ 9.08465272e-01,  4.17960345e-01],\n",
       "        [ 6.50618300e-01,  7.59404917e-01],\n",
       "        [ 3.32354799e-01,  9.43154434e-01],\n",
       "        [ 7.29112590e-03,  3.79463320e-01],\n",
       "        [ 0.00000000e+00,  5.00000000e-01],\n",
       "        [ 8.16196912e-01,  5.77773831e-01],\n",
       "        [ 1.35460489e+00, -4.35016243e-01],\n",
       "        [ 6.45395113e-01, -4.35016243e-01],\n",
       "        [ 1.44218728e-01, -1.73378142e-02],\n",
       "        [ 5.89587195e-01, -4.11899846e-01],\n",
       "        [-9.22683595e-02,  9.95734176e-01],\n",
       "        [-8.81012194e-01,  4.73093557e-01],\n",
       "        [-6.02634636e-01,  7.98017227e-01],\n",
       "        [ 1.00000000e+00,  0.00000000e+00],\n",
       "        [ 3.36877342e-01, -2.48510748e-01],\n",
       "        [-1.53391655e-01,  9.88165472e-01],\n",
       "        [ 7.60684336e-01, -4.70941817e-01],\n",
       "        [ 1.98361991e+00,  3.19744962e-01],\n",
       "        [ 1.97094182e+00,  2.60684336e-01],\n",
       "        [ 1.88545603e+00,  3.52768280e-02],\n",
       "        [ 6.49837573e-02,  1.45395113e-01],\n",
       "        [ 1.66312266e+00, -2.48510748e-01],\n",
       "        [ 9.52942000e-01,  3.03152674e-01],\n",
       "        [ 9.92420510e-01,  1.22888291e-01],\n",
       "        [ 8.79463320e-01, -4.92708874e-01],\n",
       "        [ 1.29750305e+00, -4.54720867e-01],\n",
       "        [ 3.83281127e-01, -2.87183481e-01],\n",
       "        [ 2.73662990e-01,  9.61825643e-01],\n",
       "        [ 7.02496946e-01, -4.54720867e-01],\n",
       "        [-3.07950586e-02,  9.99525720e-01],\n",
       "        [ 3.07950586e-02,  9.99525720e-01],\n",
       "        [ 1.93501624e+00,  1.45395113e-01],\n",
       "        [-3.89785873e-01,  9.20905518e-01],\n",
       "        [-9.52942000e-01,  3.03152674e-01],\n",
       "        [-5.00000000e-01,  8.66025404e-01]]),\n",
       " array([0, 1, 0, 0, 0, 1, 0, 1, 1, 1, 0, 0, 0, 1, 0, 0, 1, 1, 1, 0, 1, 0,\n",
       "        1, 1, 0, 1, 0, 0, 1, 1, 0, 1, 1, 0, 1, 1, 0, 1, 1, 1, 1, 0, 1, 0,\n",
       "        0, 1, 0, 0, 0, 1, 0, 1, 0, 0, 0, 0, 1, 1, 1, 1, 1, 1, 1, 0, 0, 0,\n",
       "        1, 0, 0, 0, 0, 0, 0, 1, 1, 0, 1, 1, 1, 1, 0, 0, 0, 0, 1, 0, 1, 1,\n",
       "        1, 1, 1, 1, 0, 0, 1, 1, 1, 0, 1, 0, 0, 1, 0, 0, 0], dtype=int64))"
      ]
     },
     "execution_count": 89,
     "metadata": {},
     "output_type": "execute_result"
    }
   ],
   "source": [
    "data_"
   ]
  },
  {
   "cell_type": "code",
   "execution_count": 90,
   "metadata": {},
   "outputs": [],
   "source": [
    "inputData = pd.DataFrame(data = data_[0])"
   ]
  },
  {
   "cell_type": "code",
   "execution_count": 91,
   "metadata": {},
   "outputs": [
    {
     "data": {
      "text/html": [
       "<div>\n",
       "<style scoped>\n",
       "    .dataframe tbody tr th:only-of-type {\n",
       "        vertical-align: middle;\n",
       "    }\n",
       "\n",
       "    .dataframe tbody tr th {\n",
       "        vertical-align: top;\n",
       "    }\n",
       "\n",
       "    .dataframe thead th {\n",
       "        text-align: right;\n",
       "    }\n",
       "</style>\n",
       "<table border=\"1\" class=\"dataframe\">\n",
       "  <thead>\n",
       "    <tr style=\"text-align: right;\">\n",
       "      <th></th>\n",
       "      <th>0</th>\n",
       "      <th>1</th>\n",
       "    </tr>\n",
       "  </thead>\n",
       "  <tbody>\n",
       "    <tr>\n",
       "      <th>0</th>\n",
       "      <td>0.850217</td>\n",
       "      <td>0.526432</td>\n",
       "    </tr>\n",
       "    <tr>\n",
       "      <th>1</th>\n",
       "      <td>0.029058</td>\n",
       "      <td>0.260684</td>\n",
       "    </tr>\n",
       "    <tr>\n",
       "      <th>2</th>\n",
       "      <td>-0.779081</td>\n",
       "      <td>0.626924</td>\n",
       "    </tr>\n",
       "    <tr>\n",
       "      <th>3</th>\n",
       "      <td>-0.739009</td>\n",
       "      <td>0.673696</td>\n",
       "    </tr>\n",
       "    <tr>\n",
       "      <th>4</th>\n",
       "      <td>-0.969797</td>\n",
       "      <td>0.243914</td>\n",
       "    </tr>\n",
       "  </tbody>\n",
       "</table>\n",
       "</div>"
      ],
      "text/plain": [
       "          0         1\n",
       "0  0.850217  0.526432\n",
       "1  0.029058  0.260684\n",
       "2 -0.779081  0.626924\n",
       "3 -0.739009  0.673696\n",
       "4 -0.969797  0.243914"
      ]
     },
     "execution_count": 91,
     "metadata": {},
     "output_type": "execute_result"
    }
   ],
   "source": [
    "inputData.head()"
   ]
  },
  {
   "cell_type": "code",
   "execution_count": 92,
   "metadata": {},
   "outputs": [
    {
     "data": {
      "text/plain": [
       "<matplotlib.collections.PathCollection at 0x1a2dd422a60>"
      ]
     },
     "execution_count": 92,
     "metadata": {},
     "output_type": "execute_result"
    },
    {
     "data": {
      "image/png": "[encoded data removed]",
      "text/plain": [
       "<Figure size 432x288 with 1 Axes>"
      ]
     },
     "metadata": {
      "needs_background": "light"
     },
     "output_type": "display_data"
    }
   ],
   "source": [
    "plt.scatter(inputData[0], inputData[1])\n"
   ]
  },
  {
   "cell_type": "code",
   "execution_count": 93,
   "metadata": {},
   "outputs": [],
   "source": [
    "outputData1 = pd.DataFrame(data = data_[1])\n"
   ]
  },
  {
   "cell_type": "code",
   "execution_count": 94,
   "metadata": {},
   "outputs": [
    {
     "data": {
      "text/html": [
       "<div>\n",
       "<style scoped>\n",
       "    .dataframe tbody tr th:only-of-type {\n",
       "        vertical-align: middle;\n",
       "    }\n",
       "\n",
       "    .dataframe tbody tr th {\n",
       "        vertical-align: top;\n",
       "    }\n",
       "\n",
       "    .dataframe thead th {\n",
       "        text-align: right;\n",
       "    }\n",
       "</style>\n",
       "<table border=\"1\" class=\"dataframe\">\n",
       "  <thead>\n",
       "    <tr style=\"text-align: right;\">\n",
       "      <th></th>\n",
       "      <th>0</th>\n",
       "    </tr>\n",
       "  </thead>\n",
       "  <tbody>\n",
       "    <tr>\n",
       "      <th>0</th>\n",
       "      <td>0</td>\n",
       "    </tr>\n",
       "    <tr>\n",
       "      <th>1</th>\n",
       "      <td>1</td>\n",
       "    </tr>\n",
       "    <tr>\n",
       "      <th>2</th>\n",
       "      <td>0</td>\n",
       "    </tr>\n",
       "    <tr>\n",
       "      <th>3</th>\n",
       "      <td>0</td>\n",
       "    </tr>\n",
       "    <tr>\n",
       "      <th>4</th>\n",
       "      <td>0</td>\n",
       "    </tr>\n",
       "  </tbody>\n",
       "</table>\n",
       "</div>"
      ],
      "text/plain": [
       "   0\n",
       "0  0\n",
       "1  1\n",
       "2  0\n",
       "3  0\n",
       "4  0"
      ]
     },
     "execution_count": 94,
     "metadata": {},
     "output_type": "execute_result"
    }
   ],
   "source": [
    "outputData1.head()"
   ]
  },
  {
   "cell_type": "code",
   "execution_count": 95,
   "metadata": {},
   "outputs": [
    {
     "data": {
      "text/plain": [
       "<matplotlib.collections.PathCollection at 0x1a2de997340>"
      ]
     },
     "execution_count": 95,
     "metadata": {},
     "output_type": "execute_result"
    },
    {
     "data": {
      "image/png": "[encoded data removed]",
      "text/plain": [
       "<Figure size 432x288 with 1 Axes>"
      ]
     },
     "metadata": {
      "needs_background": "light"
     },
     "output_type": "display_data"
    }
   ],
   "source": [
    "plt.scatter(inputData[0], inputData[1], c = outputData1)"
   ]
  },
  {
   "cell_type": "code",
   "execution_count": 96,
   "metadata": {},
   "outputs": [
    {
     "data": {
      "text/plain": [
       "KMeans(n_clusters=5)"
      ]
     },
     "execution_count": 96,
     "metadata": {},
     "output_type": "execute_result"
    }
   ],
   "source": [
    "\n",
    "\n",
    "\n",
    "model = KMeans(n_clusters=5)\n",
    "model.fit(inputData)"
   ]
  },
  {
   "cell_type": "code",
   "execution_count": 97,
   "metadata": {},
   "outputs": [
    {
     "data": {
      "text/plain": [
       "array([0, 3, 2, 2, 2, 3, 0, 1, 4, 3, 4, 0, 0, 3, 2, 2, 3, 3, 4, 2, 4, 2,\n",
       "       1, 4, 0, 4, 0, 2, 4, 4, 0, 4, 1, 0, 1, 4, 2, 4, 1, 1, 1, 2, 3, 0,\n",
       "       0, 1, 2, 2, 2, 3, 2, 1, 0, 2, 2, 0, 3, 1, 3, 1, 3, 4, 1, 4, 4, 2,\n",
       "       1, 2, 0, 0, 0, 0, 0, 3, 3, 0, 4, 4, 3, 4, 0, 2, 2, 4, 3, 2, 4, 1,\n",
       "       1, 1, 3, 1, 4, 4, 4, 4, 3, 0, 4, 0, 0, 1, 2, 2, 2])"
      ]
     },
     "execution_count": 97,
     "metadata": {},
     "output_type": "execute_result"
    }
   ],
   "source": [
    "model.labels_"
   ]
  },
  {
   "cell_type": "code",
   "execution_count": 98,
   "metadata": {},
   "outputs": [
    {
     "data": {
      "text/plain": [
       "0.47558514315020356"
      ]
     },
     "execution_count": 98,
     "metadata": {},
     "output_type": "execute_result"
    }
   ],
   "source": [
    "metrics.silhouette_score(inputData, model.labels_)"
   ]
  },
  {
   "cell_type": "code",
   "execution_count": 99,
   "metadata": {},
   "outputs": [
    {
     "data": {
      "text/plain": [
       "<matplotlib.collections.PathCollection at 0x1a2de9eeac0>"
      ]
     },
     "execution_count": 99,
     "metadata": {},
     "output_type": "execute_result"
    },
    {
     "data": {
      "image/png": "[encoded data removed]",
      "text/plain": [
       "<Figure size 432x288 with 1 Axes>"
      ]
     },
     "metadata": {
      "needs_background": "light"
     },
     "output_type": "display_data"
    }
   ],
   "source": [
    "plt.scatter(inputData[0], inputData[1], c = model.labels_)"
   ]
  },
  {
   "cell_type": "code",
   "execution_count": 100,
   "metadata": {},
   "outputs": [],
   "source": [
    "\n",
    "cluster_range = range(1, 20)\n",
    "error_list = []\n",
    "\n",
    "for i in cluster_range:\n",
    "    model = KMeans(n_clusters=i)\n",
    "    model.fit(inputData)\n",
    "    res = model.inertia_\n",
    "    error_list.append(res)"
   ]
  },
  {
   "cell_type": "code",
   "execution_count": 101,
   "metadata": {},
   "outputs": [
    {
     "data": {
      "image/png": "[encoded data removed]",
      "text/plain": [
       "<Figure size 432x288 with 1 Axes>"
      ]
     },
     "metadata": {
      "needs_background": "light"
     },
     "output_type": "display_data"
    }
   ],
   "source": [
    "import matplotlib.pyplot as plt\n",
    "\n",
    "plt.plot(cluster_range, error_list, marker = \"o\", color = \"g\", markersize = 10)\n",
    "plt.xlabel(\"Cluster Range\")\n",
    "plt.ylabel(\"IntraCluster Sum\")\n",
    "plt.title(\"KMeans\")\n",
    "plt.show()"
   ]
  },
  {
   "cell_type": "code",
   "execution_count": null,
   "metadata": {},
   "outputs": [],
   "source": []
  },
  {
   "cell_type": "code",
   "execution_count": null,
   "metadata": {},
   "outputs": [],
   "source": []
  }
 ],
 "metadata": {
  "kernelspec": {
   "display_name": "Python 3",
   "language": "python",
   "name": "python3"
  },
  "language_info": {
   "codemirror_mode": {
    "name": "ipython",
    "version": 3
   },
   "file_extension": ".py",
   "mimetype": "text/x-python",
   "name": "python",
   "nbconvert_exporter": "python",
   "pygments_lexer": "ipython3",
   "version": "3.8.5"
  }
 },
 "nbformat": 4,
 "nbformat_minor": 4
}
